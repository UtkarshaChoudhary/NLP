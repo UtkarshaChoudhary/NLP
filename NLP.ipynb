{
 "cells": [
  {
   "cell_type": "raw",
   "id": "3e6eba44-a58b-4428-9e14-7cff04d95c42",
   "metadata": {},
   "source": [
    "Natural language processing (NLP) is a subfield of computer science and especially artificial intelligence. It is primarily concerned with providing computers with the ability to process data encoded in natural language and is thus closely related to information retrieval, knowledge representation and computational linguistics, a subfield of linguistics. Typically data is collected in text corpora, using either rule-based, statistical or neural-based approaches in machine learning and deep learning."
   ]
  },
  {
   "cell_type": "code",
   "execution_count": 30,
   "id": "6125a266-d3c1-486a-9d74-649ff3445f1e",
   "metadata": {},
   "outputs": [],
   "source": [
    "x=\"Natural language processing (NLP) is a subfield of computer science and especially artificial intelligence. It is primarily concerned with providing computers with the ability to process data encoded in natural language. thus closely related to information retrieval, knowledge representation and computational linguistics, a subfield of linguistics. Typically data is collected in text corpora, using either rule-based, statistical or neural-based approaches in machine learning and deep learning.\""
   ]
  },
  {
   "cell_type": "code",
   "execution_count": null,
   "id": "9d35d741-7d18-47e5-8075-080393e940f5",
   "metadata": {},
   "outputs": [],
   "source": [
    "#import nltk\n",
    "#nltk.download('punkt')"
   ]
  },
  {
   "cell_type": "code",
   "execution_count": 3,
   "id": "339d1ecc-32c6-4f27-8712-2e3ead5083c3",
   "metadata": {},
   "outputs": [],
   "source": [
    "from nltk.tokenize import word_tokenize\n",
    "import nltk"
   ]
  },
  {
   "cell_type": "code",
   "execution_count": 4,
   "id": "8d1a9550-ad88-4295-9dc7-5cef8aacf452",
   "metadata": {},
   "outputs": [],
   "source": [
    "w= word_tokenize(x)"
   ]
  },
  {
   "cell_type": "code",
   "execution_count": 7,
   "id": "93e1d4ef-d167-4e38-a81a-c5ffa2bdeac6",
   "metadata": {},
   "outputs": [
    {
     "data": {
      "text/plain": [
       "['Natural',\n",
       " 'language',\n",
       " 'processing',\n",
       " '(',\n",
       " 'NLP',\n",
       " ')',\n",
       " 'is',\n",
       " 'a',\n",
       " 'subfield',\n",
       " 'of',\n",
       " 'computer',\n",
       " 'science',\n",
       " 'and',\n",
       " 'especially',\n",
       " 'artificial',\n",
       " 'intelligence',\n",
       " '.',\n",
       " 'It',\n",
       " 'is',\n",
       " 'primarily',\n",
       " 'concerned',\n",
       " 'with',\n",
       " 'providing',\n",
       " 'computers',\n",
       " 'with',\n",
       " 'the',\n",
       " 'ability',\n",
       " 'to',\n",
       " 'process',\n",
       " 'data',\n",
       " 'encoded',\n",
       " 'in',\n",
       " 'natural',\n",
       " 'language',\n",
       " 'and',\n",
       " 'is',\n",
       " 'thus',\n",
       " 'closely',\n",
       " 'related',\n",
       " 'to',\n",
       " 'information',\n",
       " 'retrieval',\n",
       " ',',\n",
       " 'knowledge',\n",
       " 'representation',\n",
       " 'and',\n",
       " 'computational',\n",
       " 'linguistics',\n",
       " ',',\n",
       " 'a',\n",
       " 'subfield',\n",
       " 'of',\n",
       " 'linguistics',\n",
       " '.',\n",
       " 'Typically',\n",
       " 'data',\n",
       " 'is',\n",
       " 'collected',\n",
       " 'in',\n",
       " 'text',\n",
       " 'corpora',\n",
       " ',',\n",
       " 'using',\n",
       " 'either',\n",
       " 'rule-based',\n",
       " ',',\n",
       " 'statistical',\n",
       " 'or',\n",
       " 'neural-based',\n",
       " 'approaches',\n",
       " 'in',\n",
       " 'machine',\n",
       " 'learning',\n",
       " 'and',\n",
       " 'deep',\n",
       " 'learning',\n",
       " '.']"
      ]
     },
     "execution_count": 7,
     "metadata": {},
     "output_type": "execute_result"
    }
   ],
   "source": [
    "w"
   ]
  },
  {
   "cell_type": "code",
   "execution_count": 9,
   "id": "9035592c-5009-4c5e-92fc-3cc9ec31989c",
   "metadata": {},
   "outputs": [],
   "source": [
    "from nltk import pos_tag"
   ]
  },
  {
   "cell_type": "code",
   "execution_count": 15,
   "id": "504f1c9a-96f2-4375-bad5-6219cf86992d",
   "metadata": {},
   "outputs": [
    {
     "name": "stderr",
     "output_type": "stream",
     "text": [
      "[nltk_data] Downloading package averaged_perceptron_tagger to\n",
      "[nltk_data]     C:\\Users\\Utkarsha\\AppData\\Roaming\\nltk_data...\n",
      "[nltk_data]   Unzipping taggers\\averaged_perceptron_tagger.zip.\n"
     ]
    },
    {
     "data": {
      "text/plain": [
       "True"
      ]
     },
     "execution_count": 15,
     "metadata": {},
     "output_type": "execute_result"
    }
   ],
   "source": [
    "import nltk\n",
    "nltk.download('averaged_perceptron_tagger')"
   ]
  },
  {
   "cell_type": "code",
   "execution_count": 17,
   "id": "f849984d-7945-44a8-88a4-a04c24a09f14",
   "metadata": {},
   "outputs": [],
   "source": [
    "p=pos_tag(w)"
   ]
  },
  {
   "cell_type": "code",
   "execution_count": 19,
   "id": "c51c1c04-5059-4a30-9f78-ee200d777135",
   "metadata": {},
   "outputs": [
    {
     "data": {
      "text/plain": [
       "[('Natural', 'JJ'),\n",
       " ('language', 'NN'),\n",
       " ('processing', 'NN'),\n",
       " ('(', '('),\n",
       " ('NLP', 'NNP'),\n",
       " (')', ')'),\n",
       " ('is', 'VBZ'),\n",
       " ('a', 'DT'),\n",
       " ('subfield', 'NN'),\n",
       " ('of', 'IN'),\n",
       " ('computer', 'NN'),\n",
       " ('science', 'NN'),\n",
       " ('and', 'CC'),\n",
       " ('especially', 'RB'),\n",
       " ('artificial', 'JJ'),\n",
       " ('intelligence', 'NN'),\n",
       " ('.', '.'),\n",
       " ('It', 'PRP'),\n",
       " ('is', 'VBZ'),\n",
       " ('primarily', 'RB'),\n",
       " ('concerned', 'VBN'),\n",
       " ('with', 'IN'),\n",
       " ('providing', 'VBG'),\n",
       " ('computers', 'NNS'),\n",
       " ('with', 'IN'),\n",
       " ('the', 'DT'),\n",
       " ('ability', 'NN'),\n",
       " ('to', 'TO'),\n",
       " ('process', 'VB'),\n",
       " ('data', 'NNS'),\n",
       " ('encoded', 'VBN'),\n",
       " ('in', 'IN'),\n",
       " ('natural', 'JJ'),\n",
       " ('language', 'NN'),\n",
       " ('and', 'CC'),\n",
       " ('is', 'VBZ'),\n",
       " ('thus', 'RB'),\n",
       " ('closely', 'RB'),\n",
       " ('related', 'JJ'),\n",
       " ('to', 'TO'),\n",
       " ('information', 'NN'),\n",
       " ('retrieval', 'NN'),\n",
       " (',', ','),\n",
       " ('knowledge', 'NN'),\n",
       " ('representation', 'NN'),\n",
       " ('and', 'CC'),\n",
       " ('computational', 'JJ'),\n",
       " ('linguistics', 'NNS'),\n",
       " (',', ','),\n",
       " ('a', 'DT'),\n",
       " ('subfield', 'NN'),\n",
       " ('of', 'IN'),\n",
       " ('linguistics', 'NNS'),\n",
       " ('.', '.'),\n",
       " ('Typically', 'NNP'),\n",
       " ('data', 'NN'),\n",
       " ('is', 'VBZ'),\n",
       " ('collected', 'VBN'),\n",
       " ('in', 'IN'),\n",
       " ('text', 'NN'),\n",
       " ('corpora', 'NN'),\n",
       " (',', ','),\n",
       " ('using', 'VBG'),\n",
       " ('either', 'CC'),\n",
       " ('rule-based', 'JJ'),\n",
       " (',', ','),\n",
       " ('statistical', 'JJ'),\n",
       " ('or', 'CC'),\n",
       " ('neural-based', 'JJ'),\n",
       " ('approaches', 'NNS'),\n",
       " ('in', 'IN'),\n",
       " ('machine', 'NN'),\n",
       " ('learning', 'NN'),\n",
       " ('and', 'CC'),\n",
       " ('deep', 'JJ'),\n",
       " ('learning', 'NN'),\n",
       " ('.', '.')]"
      ]
     },
     "execution_count": 19,
     "metadata": {},
     "output_type": "execute_result"
    }
   ],
   "source": [
    "p"
   ]
  },
  {
   "cell_type": "markdown",
   "id": "75000e34-030e-4220-8f29-76d6b8d0719d",
   "metadata": {},
   "source": [
    "# Text pre-processing techniques"
   ]
  },
  {
   "cell_type": "raw",
   "id": "c8d9f219-5bb7-47a3-94e7-2b9acea5e0a0",
   "metadata": {},
   "source": [
    "Lowercasing\n",
    "Remove HTML tags\n",
    "Remove URL\n",
    "Removing punctuation\n",
    "Chat word Treatment\n",
    "Spelling Correction\n",
    "Tokenization\n",
    "Stop words removal\n",
    "N-grams\n",
    "stemming\n",
    "word Sense Disambiguation\n",
    "counter vectorizer\n",
    "Lemmatization\n",
    "TF-IDF vectorization\n",
    "hasing vector"
   ]
  },
  {
   "cell_type": "markdown",
   "id": "38426296-8ccf-4ae9-a79e-acfba2a029c7",
   "metadata": {},
   "source": [
    "## Tokenization"
   ]
  },
  {
   "cell_type": "raw",
   "id": "ae4d8498-cb1f-4027-94ed-6daf194caba9",
   "metadata": {},
   "source": [
    "where to use:::::used in NLP to split paraghraphs and sentence into smaller units for easily assigned meaning\n",
    "why to use::: breaking it into understandable parts\n",
    "sentence tokenize \n",
    "word tokenize"
   ]
  },
  {
   "cell_type": "code",
   "execution_count": 32,
   "id": "85260619-de22-4ddd-8413-f4de006ce4a5",
   "metadata": {},
   "outputs": [
    {
     "data": {
      "text/plain": [
       "'Natural language processing (NLP) is a subfield of computer science and especially artificial intelligence. It is primarily concerned with providing computers with the ability to process data encoded in natural language. thus closely related to information retrieval, knowledge representation and computational linguistics, a subfield of linguistics. Typically data is collected in text corpora, using either rule-based, statistical or neural-based approaches in machine learning and deep learning.'"
      ]
     },
     "execution_count": 32,
     "metadata": {},
     "output_type": "execute_result"
    }
   ],
   "source": [
    "x"
   ]
  },
  {
   "cell_type": "markdown",
   "id": "c6c22721-ee45-4558-8208-0e3667c84d88",
   "metadata": {},
   "source": [
    "### Sentence Tokenize"
   ]
  },
  {
   "cell_type": "code",
   "execution_count": 28,
   "id": "3da51625-a5ad-4fc9-8b3c-434b627945eb",
   "metadata": {},
   "outputs": [],
   "source": [
    "from nltk.tokenize import word_tokenize,sent_tokenize"
   ]
  },
  {
   "cell_type": "code",
   "execution_count": 36,
   "id": "af25a62c-f3c1-4b53-bdcf-b2336e68e11e",
   "metadata": {},
   "outputs": [],
   "source": [
    "sent_token=sent_tokenize(x)"
   ]
  },
  {
   "cell_type": "code",
   "execution_count": 38,
   "id": "e8958cea-7539-4637-b5cb-82070347a72c",
   "metadata": {},
   "outputs": [
    {
     "data": {
      "text/plain": [
       "['Natural language processing (NLP) is a subfield of computer science and especially artificial intelligence.',\n",
       " 'It is primarily concerned with providing computers with the ability to process data encoded in natural language.',\n",
       " 'thus closely related to information retrieval, knowledge representation and computational linguistics, a subfield of linguistics.',\n",
       " 'Typically data is collected in text corpora, using either rule-based, statistical or neural-based approaches in machine learning and deep learning.']"
      ]
     },
     "execution_count": 38,
     "metadata": {},
     "output_type": "execute_result"
    }
   ],
   "source": [
    "sent_token"
   ]
  },
  {
   "cell_type": "code",
   "execution_count": 42,
   "id": "bcef143f-0d52-4b2a-973f-27c683dd9d34",
   "metadata": {},
   "outputs": [
    {
     "name": "stdout",
     "output_type": "stream",
     "text": [
      "Natural language processing (NLP) is a subfield of computer science and especially artificial intelligence.\n",
      "\n",
      "It is primarily concerned with providing computers with the ability to process data encoded in natural language.\n",
      "\n",
      "thus closely related to information retrieval, knowledge representation and computational linguistics, a subfield of linguistics.\n",
      "\n",
      "Typically data is collected in text corpora, using either rule-based, statistical or neural-based approaches in machine learning and deep learning.\n",
      "\n"
     ]
    }
   ],
   "source": [
    "for i in sent_token:\n",
    "    print(i)\n",
    "    print()"
   ]
  },
  {
   "cell_type": "markdown",
   "id": "b472f575-d786-4c5c-8f32-a1a4c7c4cea8",
   "metadata": {},
   "source": [
    "### Word Tokenize"
   ]
  },
  {
   "cell_type": "code",
   "execution_count": 54,
   "id": "7b6685fb-dbf7-4c71-bead-e1d791ad82db",
   "metadata": {},
   "outputs": [],
   "source": [
    "# we are breaking the words\n",
    "word=word_tokenize(x)"
   ]
  },
  {
   "cell_type": "code",
   "execution_count": 56,
   "id": "ee63d1e0-c52a-4639-8800-3e2acfd6eac6",
   "metadata": {},
   "outputs": [
    {
     "data": {
      "text/plain": [
       "['Natural',\n",
       " 'language',\n",
       " 'processing',\n",
       " '(',\n",
       " 'NLP',\n",
       " ')',\n",
       " 'is',\n",
       " 'a',\n",
       " 'subfield',\n",
       " 'of',\n",
       " 'computer',\n",
       " 'science',\n",
       " 'and',\n",
       " 'especially',\n",
       " 'artificial',\n",
       " 'intelligence',\n",
       " '.',\n",
       " 'It',\n",
       " 'is',\n",
       " 'primarily',\n",
       " 'concerned',\n",
       " 'with',\n",
       " 'providing',\n",
       " 'computers',\n",
       " 'with',\n",
       " 'the',\n",
       " 'ability',\n",
       " 'to',\n",
       " 'process',\n",
       " 'data',\n",
       " 'encoded',\n",
       " 'in',\n",
       " 'natural',\n",
       " 'language',\n",
       " '.',\n",
       " 'thus',\n",
       " 'closely',\n",
       " 'related',\n",
       " 'to',\n",
       " 'information',\n",
       " 'retrieval',\n",
       " ',',\n",
       " 'knowledge',\n",
       " 'representation',\n",
       " 'and',\n",
       " 'computational',\n",
       " 'linguistics',\n",
       " ',',\n",
       " 'a',\n",
       " 'subfield',\n",
       " 'of',\n",
       " 'linguistics',\n",
       " '.',\n",
       " 'Typically',\n",
       " 'data',\n",
       " 'is',\n",
       " 'collected',\n",
       " 'in',\n",
       " 'text',\n",
       " 'corpora',\n",
       " ',',\n",
       " 'using',\n",
       " 'either',\n",
       " 'rule-based',\n",
       " ',',\n",
       " 'statistical',\n",
       " 'or',\n",
       " 'neural-based',\n",
       " 'approaches',\n",
       " 'in',\n",
       " 'machine',\n",
       " 'learning',\n",
       " 'and',\n",
       " 'deep',\n",
       " 'learning',\n",
       " '.']"
      ]
     },
     "execution_count": 56,
     "metadata": {},
     "output_type": "execute_result"
    }
   ],
   "source": [
    "word"
   ]
  },
  {
   "cell_type": "markdown",
   "id": "a370839b-af78-4790-9f0f-3434902720a3",
   "metadata": {},
   "source": [
    "### Stop Words Removal"
   ]
  },
  {
   "cell_type": "raw",
   "id": "c70fcf83-8f58-4347-8639-fd4914a07b05",
   "metadata": {},
   "source": [
    "that word is not affect the sentence like a, the, and, so, what, this, how, as, etc "
   ]
  },
  {
   "cell_type": "code",
   "execution_count": 100,
   "id": "a9e0893c-d094-447d-87a7-dbf639b4f9ea",
   "metadata": {},
   "outputs": [],
   "source": [
    "# precess to remove stop words\n",
    "from nltk.tokenize import word_tokenize\n",
    "from nltk.corpus import stopwords\n",
    "from string import punctuation"
   ]
  },
  {
   "cell_type": "code",
   "execution_count": 102,
   "id": "aff4a126-4992-45c7-8785-b6162045221a",
   "metadata": {},
   "outputs": [],
   "source": [
    "var_x=word_tokenize(x)"
   ]
  },
  {
   "cell_type": "code",
   "execution_count": 104,
   "id": "38acd9fb-0784-45f7-8b73-8f0663fa436b",
   "metadata": {},
   "outputs": [
    {
     "name": "stderr",
     "output_type": "stream",
     "text": [
      "[nltk_data] Downloading package stopwords to\n",
      "[nltk_data]     C:\\Users\\Utkarsha\\AppData\\Roaming\\nltk_data...\n",
      "[nltk_data]   Package stopwords is already up-to-date!\n"
     ]
    },
    {
     "data": {
      "text/plain": [
       "True"
      ]
     },
     "execution_count": 104,
     "metadata": {},
     "output_type": "execute_result"
    }
   ],
   "source": [
    "import nltk\n",
    "nltk.download('stopwords')"
   ]
  },
  {
   "cell_type": "code",
   "execution_count": 85,
   "id": "e796adc7-fad9-46d9-b403-e78974eb2ed3",
   "metadata": {},
   "outputs": [
    {
     "data": {
      "text/plain": [
       "['i',\n",
       " 'me',\n",
       " 'my',\n",
       " 'myself',\n",
       " 'we',\n",
       " 'our',\n",
       " 'ours',\n",
       " 'ourselves',\n",
       " 'you',\n",
       " \"you're\",\n",
       " \"you've\",\n",
       " \"you'll\",\n",
       " \"you'd\",\n",
       " 'your',\n",
       " 'yours',\n",
       " 'yourself',\n",
       " 'yourselves',\n",
       " 'he',\n",
       " 'him',\n",
       " 'his',\n",
       " 'himself',\n",
       " 'she',\n",
       " \"she's\",\n",
       " 'her',\n",
       " 'hers',\n",
       " 'herself',\n",
       " 'it',\n",
       " \"it's\",\n",
       " 'its',\n",
       " 'itself',\n",
       " 'they',\n",
       " 'them',\n",
       " 'their',\n",
       " 'theirs',\n",
       " 'themselves',\n",
       " 'what',\n",
       " 'which',\n",
       " 'who',\n",
       " 'whom',\n",
       " 'this',\n",
       " 'that',\n",
       " \"that'll\",\n",
       " 'these',\n",
       " 'those',\n",
       " 'am',\n",
       " 'is',\n",
       " 'are',\n",
       " 'was',\n",
       " 'were',\n",
       " 'be',\n",
       " 'been',\n",
       " 'being',\n",
       " 'have',\n",
       " 'has',\n",
       " 'had',\n",
       " 'having',\n",
       " 'do',\n",
       " 'does',\n",
       " 'did',\n",
       " 'doing',\n",
       " 'a',\n",
       " 'an',\n",
       " 'the',\n",
       " 'and',\n",
       " 'but',\n",
       " 'if',\n",
       " 'or',\n",
       " 'because',\n",
       " 'as',\n",
       " 'until',\n",
       " 'while',\n",
       " 'of',\n",
       " 'at',\n",
       " 'by',\n",
       " 'for',\n",
       " 'with',\n",
       " 'about',\n",
       " 'against',\n",
       " 'between',\n",
       " 'into',\n",
       " 'through',\n",
       " 'during',\n",
       " 'before',\n",
       " 'after',\n",
       " 'above',\n",
       " 'below',\n",
       " 'to',\n",
       " 'from',\n",
       " 'up',\n",
       " 'down',\n",
       " 'in',\n",
       " 'out',\n",
       " 'on',\n",
       " 'off',\n",
       " 'over',\n",
       " 'under',\n",
       " 'again',\n",
       " 'further',\n",
       " 'then',\n",
       " 'once',\n",
       " 'here',\n",
       " 'there',\n",
       " 'when',\n",
       " 'where',\n",
       " 'why',\n",
       " 'how',\n",
       " 'all',\n",
       " 'any',\n",
       " 'both',\n",
       " 'each',\n",
       " 'few',\n",
       " 'more',\n",
       " 'most',\n",
       " 'other',\n",
       " 'some',\n",
       " 'such',\n",
       " 'no',\n",
       " 'nor',\n",
       " 'not',\n",
       " 'only',\n",
       " 'own',\n",
       " 'same',\n",
       " 'so',\n",
       " 'than',\n",
       " 'too',\n",
       " 'very',\n",
       " 's',\n",
       " 't',\n",
       " 'can',\n",
       " 'will',\n",
       " 'just',\n",
       " 'don',\n",
       " \"don't\",\n",
       " 'should',\n",
       " \"should've\",\n",
       " 'now',\n",
       " 'd',\n",
       " 'll',\n",
       " 'm',\n",
       " 'o',\n",
       " 're',\n",
       " 've',\n",
       " 'y',\n",
       " 'ain',\n",
       " 'aren',\n",
       " \"aren't\",\n",
       " 'couldn',\n",
       " \"couldn't\",\n",
       " 'didn',\n",
       " \"didn't\",\n",
       " 'doesn',\n",
       " \"doesn't\",\n",
       " 'hadn',\n",
       " \"hadn't\",\n",
       " 'hasn',\n",
       " \"hasn't\",\n",
       " 'haven',\n",
       " \"haven't\",\n",
       " 'isn',\n",
       " \"isn't\",\n",
       " 'ma',\n",
       " 'mightn',\n",
       " \"mightn't\",\n",
       " 'mustn',\n",
       " \"mustn't\",\n",
       " 'needn',\n",
       " \"needn't\",\n",
       " 'shan',\n",
       " \"shan't\",\n",
       " 'shouldn',\n",
       " \"shouldn't\",\n",
       " 'wasn',\n",
       " \"wasn't\",\n",
       " 'weren',\n",
       " \"weren't\",\n",
       " 'won',\n",
       " \"won't\",\n",
       " 'wouldn',\n",
       " \"wouldn't\"]"
      ]
     },
     "execution_count": 85,
     "metadata": {},
     "output_type": "execute_result"
    }
   ],
   "source": [
    "stop=stopwords.words(\"english\")\n",
    "stop   #This are stop words"
   ]
  },
  {
   "cell_type": "code",
   "execution_count": 96,
   "id": "330892f7-3f91-490f-b748-de19bf8468cc",
   "metadata": {},
   "outputs": [],
   "source": [
    "stop_word_list=list(punctuation)+stop"
   ]
  },
  {
   "cell_type": "code",
   "execution_count": 110,
   "id": "a6bbeb27-f658-4558-b476-c3e6ae9e9d4c",
   "metadata": {},
   "outputs": [
    {
     "name": "stdout",
     "output_type": "stream",
     "text": [
      "Natural\n",
      "language\n",
      "processing\n",
      "NLP\n",
      "subfield\n",
      "computer\n",
      "science\n",
      "especially\n",
      "artificial\n",
      "intelligence\n",
      "It\n",
      "primarily\n",
      "concerned\n",
      "providing\n",
      "computers\n",
      "ability\n",
      "process\n",
      "data\n",
      "encoded\n",
      "natural\n",
      "language\n",
      "thus\n",
      "closely\n",
      "related\n",
      "information\n",
      "retrieval\n",
      "knowledge\n",
      "representation\n",
      "computational\n",
      "linguistics\n",
      "subfield\n",
      "linguistics\n",
      "Typically\n",
      "data\n",
      "collected\n",
      "text\n",
      "corpora\n",
      "using\n",
      "either\n",
      "rule-based\n",
      "statistical\n",
      "neural-based\n",
      "approaches\n",
      "machine\n",
      "learning\n",
      "deep\n",
      "learning\n"
     ]
    }
   ],
   "source": [
    "for i in var_x:\n",
    "    if i not in stop_word_list:\n",
    "        print(i)"
   ]
  },
  {
   "cell_type": "markdown",
   "id": "263787f2-1539-4f56-b5af-c15e59bd95a9",
   "metadata": {},
   "source": [
    "### Stemming & Lemmatization"
   ]
  },
  {
   "cell_type": "raw",
   "id": "a33f0818-d08e-4848-bde6-d307f555eae1",
   "metadata": {},
   "source": [
    "this technique used to extract the base from of the words by removing affixes from them"
   ]
  },
  {
   "cell_type": "code",
   "execution_count": 113,
   "id": "503c46e7-b681-4c46-8550-ea17b0d84a95",
   "metadata": {},
   "outputs": [],
   "source": [
    "from nltk.stem import LancasterStemmer, RegexpStemmer,PorterStemmer,SnowballStemmer"
   ]
  },
  {
   "cell_type": "code",
   "execution_count": 115,
   "id": "f3b90f0e-63ac-45c8-bf53-cf86209cd3c4",
   "metadata": {},
   "outputs": [],
   "source": [
    "l=LancasterStemmer()\n",
    "r=RegexpStemmer('ing')\n",
    "p=PorterStemmer()\n",
    "s=SnowballStemmer('english')"
   ]
  },
  {
   "cell_type": "code",
   "execution_count": 119,
   "id": "6678a22d-b4c6-4413-860c-263dd2c6523f",
   "metadata": {},
   "outputs": [
    {
     "data": {
      "text/plain": [
       "'chang'"
      ]
     },
     "execution_count": 119,
     "metadata": {},
     "output_type": "execute_result"
    }
   ],
   "source": [
    "l.stem('changing')"
   ]
  },
  {
   "cell_type": "code",
   "execution_count": 121,
   "id": "4ec80db8-79e9-495e-be5d-24989be02ec5",
   "metadata": {},
   "outputs": [
    {
     "data": {
      "text/plain": [
       "'chang'"
      ]
     },
     "execution_count": 121,
     "metadata": {},
     "output_type": "execute_result"
    }
   ],
   "source": [
    "r.stem('changing')"
   ]
  },
  {
   "cell_type": "code",
   "execution_count": 125,
   "id": "2808bbb1-cdc1-4bf7-afd1-55927440364f",
   "metadata": {},
   "outputs": [
    {
     "data": {
      "text/plain": [
       "'chang'"
      ]
     },
     "execution_count": 125,
     "metadata": {},
     "output_type": "execute_result"
    }
   ],
   "source": [
    "p.stem('changing')"
   ]
  },
  {
   "cell_type": "code",
   "execution_count": 127,
   "id": "a38da808-5c31-4c8d-83c8-e1600a5d4c19",
   "metadata": {},
   "outputs": [
    {
     "data": {
      "text/plain": [
       "'chang'"
      ]
     },
     "execution_count": 127,
     "metadata": {},
     "output_type": "execute_result"
    }
   ],
   "source": [
    "s.stem('changing')"
   ]
  },
  {
   "cell_type": "markdown",
   "id": "8b35da55-2a6a-40bc-8830-df3e453474fe",
   "metadata": {},
   "source": [
    "### Lemmatization"
   ]
  },
  {
   "cell_type": "code",
   "execution_count": 153,
   "id": "777290db-ef6f-480d-860b-51b9998c03c4",
   "metadata": {},
   "outputs": [],
   "source": [
    "from nltk.stem import WordNetLemmatizer"
   ]
  },
  {
   "cell_type": "code",
   "execution_count": 163,
   "id": "eafd4813-f766-4dec-b24a-89bab30bd069",
   "metadata": {},
   "outputs": [
    {
     "name": "stderr",
     "output_type": "stream",
     "text": [
      "[nltk_data] Downloading package wordnet to\n",
      "[nltk_data]     C:\\Users\\Utkarsha\\AppData\\Roaming\\nltk_data...\n"
     ]
    },
    {
     "data": {
      "text/plain": [
       "True"
      ]
     },
     "execution_count": 163,
     "metadata": {},
     "output_type": "execute_result"
    }
   ],
   "source": [
    "import nltk\n",
    "nltk.download('wordnet')"
   ]
  },
  {
   "cell_type": "code",
   "execution_count": 164,
   "id": "63696aa9-db85-46be-8c1e-8330be6a15aa",
   "metadata": {},
   "outputs": [],
   "source": [
    "wl= WordNetLemmatizer()"
   ]
  },
  {
   "cell_type": "code",
   "execution_count": 165,
   "id": "949dd752-54e9-47f5-b0cc-4fc55b01bb0b",
   "metadata": {},
   "outputs": [
    {
     "data": {
      "text/plain": [
       "'mouse'"
      ]
     },
     "execution_count": 165,
     "metadata": {},
     "output_type": "execute_result"
    }
   ],
   "source": [
    "wl.lemmatize('mice')"
   ]
  },
  {
   "cell_type": "markdown",
   "id": "b40e35ce-9592-4a05-8330-ff3f28996cbb",
   "metadata": {},
   "source": [
    "### n-grams"
   ]
  },
  {
   "cell_type": "raw",
   "id": "f5d0ed0e-8c5e-45cc-a389-747c59c68492",
   "metadata": {},
   "source": [
    "Auto suggestion word\n",
    "contineous sequence of words or symbol or token document"
   ]
  },
  {
   "cell_type": "markdown",
   "id": "451f0df2-ccd3-429b-91da-83ec3f7e9263",
   "metadata": {},
   "source": [
    "## Count Vectorizer"
   ]
  },
  {
   "cell_type": "raw",
   "id": "104c89d7-3566-440e-9181-035e514a451f",
   "metadata": {},
   "source": [
    "it convert text to number "
   ]
  },
  {
   "cell_type": "code",
   "execution_count": 216,
   "id": "119df691-1282-42b1-b5c2-fed6022ecd7e",
   "metadata": {},
   "outputs": [],
   "source": [
    "ab=[x]"
   ]
  },
  {
   "cell_type": "code",
   "execution_count": 218,
   "id": "ada15384-d407-4294-8c1d-033832e694a8",
   "metadata": {},
   "outputs": [],
   "source": [
    "import pandas as pd"
   ]
  },
  {
   "cell_type": "code",
   "execution_count": 220,
   "id": "e67112fa-a9bc-49e3-9c02-f56888ba9818",
   "metadata": {},
   "outputs": [
    {
     "data": {
      "text/html": [
       "<div>\n",
       "<style scoped>\n",
       "    .dataframe tbody tr th:only-of-type {\n",
       "        vertical-align: middle;\n",
       "    }\n",
       "\n",
       "    .dataframe tbody tr th {\n",
       "        vertical-align: top;\n",
       "    }\n",
       "\n",
       "    .dataframe thead th {\n",
       "        text-align: right;\n",
       "    }\n",
       "</style>\n",
       "<table border=\"1\" class=\"dataframe\">\n",
       "  <thead>\n",
       "    <tr style=\"text-align: right;\">\n",
       "      <th></th>\n",
       "      <th>name</th>\n",
       "    </tr>\n",
       "  </thead>\n",
       "  <tbody>\n",
       "    <tr>\n",
       "      <th>0</th>\n",
       "      <td>Natural language processing (NLP) is a subfiel...</td>\n",
       "    </tr>\n",
       "  </tbody>\n",
       "</table>\n",
       "</div>"
      ],
      "text/plain": [
       "                                                name\n",
       "0  Natural language processing (NLP) is a subfiel..."
      ]
     },
     "execution_count": 220,
     "metadata": {},
     "output_type": "execute_result"
    }
   ],
   "source": [
    "data=pd.DataFrame({\"name\":ab})\n",
    "data"
   ]
  },
  {
   "cell_type": "code",
   "execution_count": 222,
   "id": "be73e1e8-70d0-4737-8476-b90c9fd96ef5",
   "metadata": {},
   "outputs": [],
   "source": [
    "from sklearn.feature_extraction.text import CountVectorizer"
   ]
  },
  {
   "cell_type": "code",
   "execution_count": 224,
   "id": "93e10e72-908e-4d62-aef5-591fa6099d81",
   "metadata": {},
   "outputs": [],
   "source": [
    "cv=CountVectorizer()"
   ]
  },
  {
   "cell_type": "code",
   "execution_count": 226,
   "id": "d19e95fe-de78-43c3-b4c7-06393b7295d6",
   "metadata": {},
   "outputs": [],
   "source": [
    "new_data=cv.fit_transform(data[\"name\"]).toarray()"
   ]
  },
  {
   "cell_type": "code",
   "execution_count": 228,
   "id": "33af57d9-9ac3-4532-b578-0756c38f6005",
   "metadata": {},
   "outputs": [
    {
     "data": {
      "text/plain": [
       "array([[1, 3, 1, 1, 2, 1, 1, 1, 1, 1, 1, 1, 2, 1, 1, 1, 1, 3, 1, 1, 3, 1,\n",
       "        1, 2, 2, 2, 1, 2, 1, 1, 2, 1, 1, 1, 1, 1, 1, 1, 1, 1, 1, 1, 2, 1,\n",
       "        1, 1, 2, 1, 1, 2]])"
      ]
     },
     "execution_count": 228,
     "metadata": {},
     "output_type": "execute_result"
    }
   ],
   "source": [
    "new_data"
   ]
  },
  {
   "cell_type": "code",
   "execution_count": 230,
   "id": "8d4175a6-4e28-4f70-a40a-2a2f798f3f26",
   "metadata": {},
   "outputs": [
    {
     "data": {
      "text/plain": [
       "{'natural': 27,\n",
       " 'language': 23,\n",
       " 'processing': 34,\n",
       " 'nlp': 29,\n",
       " 'is': 20,\n",
       " 'subfield': 42,\n",
       " 'of': 30,\n",
       " 'computer': 8,\n",
       " 'science': 40,\n",
       " 'and': 1,\n",
       " 'especially': 16,\n",
       " 'artificial': 3,\n",
       " 'intelligence': 19,\n",
       " 'it': 21,\n",
       " 'primarily': 32,\n",
       " 'concerned': 10,\n",
       " 'with': 49,\n",
       " 'providing': 35,\n",
       " 'computers': 9,\n",
       " 'the': 44,\n",
       " 'ability': 0,\n",
       " 'to': 46,\n",
       " 'process': 33,\n",
       " 'data': 12,\n",
       " 'encoded': 15,\n",
       " 'in': 17,\n",
       " 'thus': 45,\n",
       " 'closely': 5,\n",
       " 'related': 36,\n",
       " 'information': 18,\n",
       " 'retrieval': 38,\n",
       " 'knowledge': 22,\n",
       " 'representation': 37,\n",
       " 'computational': 7,\n",
       " 'linguistics': 25,\n",
       " 'typically': 47,\n",
       " 'collected': 6,\n",
       " 'text': 43,\n",
       " 'corpora': 11,\n",
       " 'using': 48,\n",
       " 'either': 14,\n",
       " 'rule': 39,\n",
       " 'based': 4,\n",
       " 'statistical': 41,\n",
       " 'or': 31,\n",
       " 'neural': 28,\n",
       " 'approaches': 2,\n",
       " 'machine': 26,\n",
       " 'learning': 24,\n",
       " 'deep': 13}"
      ]
     },
     "execution_count": 230,
     "metadata": {},
     "output_type": "execute_result"
    }
   ],
   "source": [
    "cv.vocabulary_"
   ]
  },
  {
   "cell_type": "code",
   "execution_count": null,
   "id": "5d14a0ed-7c44-436b-b12d-68c6262e51a6",
   "metadata": {},
   "outputs": [],
   "source": []
  },
  {
   "cell_type": "code",
   "execution_count": null,
   "id": "335e13b8-a68a-4416-aea3-b26384b7b93f",
   "metadata": {},
   "outputs": [],
   "source": []
  }
 ],
 "metadata": {
  "kernelspec": {
   "display_name": "Python 3 (ipykernel)",
   "language": "python",
   "name": "python3"
  },
  "language_info": {
   "codemirror_mode": {
    "name": "ipython",
    "version": 3
   },
   "file_extension": ".py",
   "mimetype": "text/x-python",
   "name": "python",
   "nbconvert_exporter": "python",
   "pygments_lexer": "ipython3",
   "version": "3.12.4"
  }
 },
 "nbformat": 4,
 "nbformat_minor": 5
}
